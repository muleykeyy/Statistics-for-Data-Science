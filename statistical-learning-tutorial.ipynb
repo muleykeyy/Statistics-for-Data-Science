{
 "cells": [
  {
   "cell_type": "code",
   "execution_count": 1,
   "id": "23743535",
   "metadata": {
    "_cell_guid": "b1076dfc-b9ad-4769-8c92-a6c4dae69d19",
    "_uuid": "8f2839f25d086af736a60e9eeb907d3b93b6e0e5",
    "execution": {
     "iopub.execute_input": "2022-07-01T14:25:05.964082Z",
     "iopub.status.busy": "2022-07-01T14:25:05.963097Z",
     "iopub.status.idle": "2022-07-01T14:25:05.988747Z",
     "shell.execute_reply": "2022-07-01T14:25:05.987579Z"
    },
    "papermill": {
     "duration": 0.05255,
     "end_time": "2022-07-01T14:25:05.991703",
     "exception": false,
     "start_time": "2022-07-01T14:25:05.939153",
     "status": "completed"
    },
    "tags": []
   },
   "outputs": [
    {
     "name": "stdout",
     "output_type": "stream",
     "text": [
      "/kaggle/input/pokemon-challenge/pokemon.csv\n",
      "/kaggle/input/pokemon-challenge/tests.csv\n",
      "/kaggle/input/pokemon-challenge/combats.csv\n"
     ]
    }
   ],
   "source": [
    "# This Python 3 environment comes with many helpful analytics libraries installed\n",
    "# It is defined by the kaggle/python Docker image: https://github.com/kaggle/docker-python\n",
    "# For example, here's several helpful packages to load\n",
    "\n",
    "import numpy as np # linear algebra\n",
    "import pandas as pd # data processing, CSV file I/O (e.g. pd.read_csv)\n",
    "\n",
    "# Input data files are available in the read-only \"../input/\" directory\n",
    "# For example, running this (by clicking run or pressing Shift+Enter) will list all files under the input directory\n",
    "\n",
    "import os\n",
    "for dirname, _, filenames in os.walk('/kaggle/input'):\n",
    "    for filename in filenames:\n",
    "        print(os.path.join(dirname, filename))\n",
    "\n",
    "# You can write up to 20GB to the current directory (/kaggle/working/) that gets preserved as output when you create a version using \"Save & Run All\" \n",
    "# You can also write temporary files to /kaggle/temp/, but they won't be saved outside of the current session\n"
   ]
  },
  {
   "cell_type": "code",
   "execution_count": 2,
   "id": "2e23904d",
   "metadata": {
    "execution": {
     "iopub.execute_input": "2022-07-01T14:25:06.041133Z",
     "iopub.status.busy": "2022-07-01T14:25:06.040384Z",
     "iopub.status.idle": "2022-07-01T14:25:07.324788Z",
     "shell.execute_reply": "2022-07-01T14:25:07.323618Z"
    },
    "papermill": {
     "duration": 1.312519,
     "end_time": "2022-07-01T14:25:07.327495",
     "exception": false,
     "start_time": "2022-07-01T14:25:06.014976",
     "status": "completed"
    },
    "tags": []
   },
   "outputs": [],
   "source": [
    "import matplotlib.pyplot as plt\n",
    "import seaborn as sns"
   ]
  },
  {
   "cell_type": "markdown",
   "id": "65de153d",
   "metadata": {
    "papermill": {
     "duration": 0.019978,
     "end_time": "2022-07-01T14:25:07.367382",
     "exception": false,
     "start_time": "2022-07-01T14:25:07.347404",
     "status": "completed"
    },
    "tags": []
   },
   "source": [
    "<font color='purple'>\n",
    "      \n",
    "      \n",
    "# Content:\n",
    "1. [LOAD and FIRST LOOK to DATA](#1)\n",
    "1. [VARIABLE DESCRIPTION](#2)\n",
    "1. [STATISTICS](#3)\n",
    "    * [HISTOGRAMS](#4)\n",
    "    * [SUMMARY STATISTICS](#5)\n",
    "        * [MEAN (AVERAGE)](#6)\n",
    "        * [MEDIAN](#7)\n",
    "        * [QUANTILE](#8)\n",
    "            * [OUTLIERS](#9)\n",
    "            * [VISUALIZE OUTLIERS (BOX PLOT)](#10)\n",
    "        * [MODE](#11)\n",
    "        * [VARIANCE](#12)\n",
    "        * [STANDARD DEVIATION](#13)\n",
    "1. [RELATIONSHIP BETWEEN VARIABLES](#14)\n",
    "     * [CORRELATION](#15)\n",
    "     * [VISUALIZE CORRELATION (HEAT MAP)](#16)\n",
    "     *[COVARIANCE](#17)\n",
    "     *[PEARSON'S CORRELATION](#18)\n",
    "     *[SPEARSMAN'S RANK CORRELATION](#19)\n",
    "1. [PROBABILITY](#20)\n",
    "    * [CUMULATIVE DISTRIBUTION FUNCTION (CDF)](#21)\n",
    "1. [STATISTICAL HYPOTHESIS TESTING](#22)\n",
    "    * [ONE SAMPLE T TEST](#23)\n",
    "    * [SHAPIRO - WILK TEST](#24)\n",
    "    * [HOMOGENEITY OF VARIANCE](#25)\n",
    "    * [TWO-SAMPLE T-TEST / INDEPENDENT SAMPLES T-TEST](#26)\n",
    "        "
   ]
  },
  {
   "cell_type": "markdown",
   "id": "63e1009b",
   "metadata": {
    "papermill": {
     "duration": 0.019479,
     "end_time": "2022-07-01T14:25:07.406625",
     "exception": false,
     "start_time": "2022-07-01T14:25:07.387146",
     "status": "completed"
    },
    "tags": []
   },
   "source": [
    "<a id=\"1\"></a>\n",
    "\n",
    "\n",
    "# LOAD and FIRST LOOK to DATA"
   ]
  },
  {
   "cell_type": "code",
   "execution_count": 3,
   "id": "345afe59",
   "metadata": {
    "execution": {
     "iopub.execute_input": "2022-07-01T14:25:07.450118Z",
     "iopub.status.busy": "2022-07-01T14:25:07.449348Z",
     "iopub.status.idle": "2022-07-01T14:25:07.496428Z",
     "shell.execute_reply": "2022-07-01T14:25:07.495252Z"
    },
    "papermill": {
     "duration": 0.072298,
     "end_time": "2022-07-01T14:25:07.498934",
     "exception": false,
     "start_time": "2022-07-01T14:25:07.426636",
     "status": "completed"
    },
    "tags": []
   },
   "outputs": [
    {
     "data": {
      "text/html": [
       "<div>\n",
       "<style scoped>\n",
       "    .dataframe tbody tr th:only-of-type {\n",
       "        vertical-align: middle;\n",
       "    }\n",
       "\n",
       "    .dataframe tbody tr th {\n",
       "        vertical-align: top;\n",
       "    }\n",
       "\n",
       "    .dataframe thead th {\n",
       "        text-align: right;\n",
       "    }\n",
       "</style>\n",
       "<table border=\"1\" class=\"dataframe\">\n",
       "  <thead>\n",
       "    <tr style=\"text-align: right;\">\n",
       "      <th></th>\n",
       "      <th>Name</th>\n",
       "      <th>Type 1</th>\n",
       "      <th>Type 2</th>\n",
       "      <th>HP</th>\n",
       "      <th>Attack</th>\n",
       "      <th>Defense</th>\n",
       "      <th>Sp. Atk</th>\n",
       "      <th>Sp. Def</th>\n",
       "      <th>Speed</th>\n",
       "      <th>Generation</th>\n",
       "      <th>Legendary</th>\n",
       "    </tr>\n",
       "  </thead>\n",
       "  <tbody>\n",
       "    <tr>\n",
       "      <th>0</th>\n",
       "      <td>Bulbasaur</td>\n",
       "      <td>Grass</td>\n",
       "      <td>Poison</td>\n",
       "      <td>45</td>\n",
       "      <td>49</td>\n",
       "      <td>49</td>\n",
       "      <td>65</td>\n",
       "      <td>65</td>\n",
       "      <td>45</td>\n",
       "      <td>1</td>\n",
       "      <td>False</td>\n",
       "    </tr>\n",
       "    <tr>\n",
       "      <th>1</th>\n",
       "      <td>Ivysaur</td>\n",
       "      <td>Grass</td>\n",
       "      <td>Poison</td>\n",
       "      <td>60</td>\n",
       "      <td>62</td>\n",
       "      <td>63</td>\n",
       "      <td>80</td>\n",
       "      <td>80</td>\n",
       "      <td>60</td>\n",
       "      <td>1</td>\n",
       "      <td>False</td>\n",
       "    </tr>\n",
       "    <tr>\n",
       "      <th>2</th>\n",
       "      <td>Venusaur</td>\n",
       "      <td>Grass</td>\n",
       "      <td>Poison</td>\n",
       "      <td>80</td>\n",
       "      <td>82</td>\n",
       "      <td>83</td>\n",
       "      <td>100</td>\n",
       "      <td>100</td>\n",
       "      <td>80</td>\n",
       "      <td>1</td>\n",
       "      <td>False</td>\n",
       "    </tr>\n",
       "    <tr>\n",
       "      <th>3</th>\n",
       "      <td>Mega Venusaur</td>\n",
       "      <td>Grass</td>\n",
       "      <td>Poison</td>\n",
       "      <td>80</td>\n",
       "      <td>100</td>\n",
       "      <td>123</td>\n",
       "      <td>122</td>\n",
       "      <td>120</td>\n",
       "      <td>80</td>\n",
       "      <td>1</td>\n",
       "      <td>False</td>\n",
       "    </tr>\n",
       "    <tr>\n",
       "      <th>4</th>\n",
       "      <td>Charmander</td>\n",
       "      <td>Fire</td>\n",
       "      <td>NaN</td>\n",
       "      <td>39</td>\n",
       "      <td>52</td>\n",
       "      <td>43</td>\n",
       "      <td>60</td>\n",
       "      <td>50</td>\n",
       "      <td>65</td>\n",
       "      <td>1</td>\n",
       "      <td>False</td>\n",
       "    </tr>\n",
       "  </tbody>\n",
       "</table>\n",
       "</div>"
      ],
      "text/plain": [
       "            Name Type 1  Type 2  HP  Attack  Defense  Sp. Atk  Sp. Def  Speed  \\\n",
       "0      Bulbasaur  Grass  Poison  45      49       49       65       65     45   \n",
       "1        Ivysaur  Grass  Poison  60      62       63       80       80     60   \n",
       "2       Venusaur  Grass  Poison  80      82       83      100      100     80   \n",
       "3  Mega Venusaur  Grass  Poison  80     100      123      122      120     80   \n",
       "4     Charmander   Fire     NaN  39      52       43       60       50     65   \n",
       "\n",
       "   Generation  Legendary  \n",
       "0           1      False  \n",
       "1           1      False  \n",
       "2           1      False  \n",
       "3           1      False  \n",
       "4           1      False  "
      ]
     },
     "execution_count": 3,
     "metadata": {},
     "output_type": "execute_result"
    }
   ],
   "source": [
    "data=pd.read_csv(\"../input/pokemon-challenge/pokemon.csv\")\n",
    "data=data.drop(columns=\"#\",axis=0)\n",
    "data.head()"
   ]
  },
  {
   "cell_type": "code",
   "execution_count": 4,
   "id": "e6c7c289",
   "metadata": {
    "execution": {
     "iopub.execute_input": "2022-07-01T14:25:07.541821Z",
     "iopub.status.busy": "2022-07-01T14:25:07.540821Z",
     "iopub.status.idle": "2022-07-01T14:25:07.564296Z",
     "shell.execute_reply": "2022-07-01T14:25:07.563095Z"
    },
    "papermill": {
     "duration": 0.048932,
     "end_time": "2022-07-01T14:25:07.568209",
     "exception": false,
     "start_time": "2022-07-01T14:25:07.519277",
     "status": "completed"
    },
    "tags": []
   },
   "outputs": [
    {
     "name": "stdout",
     "output_type": "stream",
     "text": [
      "<class 'pandas.core.frame.DataFrame'>\n",
      "RangeIndex: 800 entries, 0 to 799\n",
      "Data columns (total 11 columns):\n",
      " #   Column      Non-Null Count  Dtype \n",
      "---  ------      --------------  ----- \n",
      " 0   Name        799 non-null    object\n",
      " 1   Type 1      800 non-null    object\n",
      " 2   Type 2      414 non-null    object\n",
      " 3   HP          800 non-null    int64 \n",
      " 4   Attack      800 non-null    int64 \n",
      " 5   Defense     800 non-null    int64 \n",
      " 6   Sp. Atk     800 non-null    int64 \n",
      " 7   Sp. Def     800 non-null    int64 \n",
      " 8   Speed       800 non-null    int64 \n",
      " 9   Generation  800 non-null    int64 \n",
      " 10  Legendary   800 non-null    bool  \n",
      "dtypes: bool(1), int64(7), object(3)\n",
      "memory usage: 63.4+ KB\n"
     ]
    }
   ],
   "source": [
    "data.info()"
   ]
  },
  {
   "cell_type": "markdown",
   "id": "e4fc753c",
   "metadata": {
    "papermill": {
     "duration": 0.019743,
     "end_time": "2022-07-01T14:25:07.608947",
     "exception": false,
     "start_time": "2022-07-01T14:25:07.589204",
     "status": "completed"
    },
    "tags": []
   },
   "source": [
    "<a id=\"2\"></a>\n",
    "\n",
    "# VARIABLE DESCRIPTION"
   ]
  },
  {
   "cell_type": "code",
   "execution_count": 5,
   "id": "64d50198",
   "metadata": {
    "execution": {
     "iopub.execute_input": "2022-07-01T14:25:07.651776Z",
     "iopub.status.busy": "2022-07-01T14:25:07.650993Z",
     "iopub.status.idle": "2022-07-01T14:25:07.658093Z",
     "shell.execute_reply": "2022-07-01T14:25:07.657265Z"
    },
    "papermill": {
     "duration": 0.031004,
     "end_time": "2022-07-01T14:25:07.660288",
     "exception": false,
     "start_time": "2022-07-01T14:25:07.629284",
     "status": "completed"
    },
    "tags": []
   },
   "outputs": [
    {
     "data": {
      "text/plain": [
       "Index(['Name', 'Type 1', 'Type 2', 'HP', 'Attack', 'Defense', 'Sp. Atk',\n",
       "       'Sp. Def', 'Speed', 'Generation', 'Legendary'],\n",
       "      dtype='object')"
      ]
     },
     "execution_count": 5,
     "metadata": {},
     "output_type": "execute_result"
    }
   ],
   "source": [
    "data.columns"
   ]
  },
  {
   "cell_type": "markdown",
   "id": "7dcb9e43",
   "metadata": {
    "papermill": {
     "duration": 0.020104,
     "end_time": "2022-07-01T14:25:07.700685",
     "exception": false,
     "start_time": "2022-07-01T14:25:07.680581",
     "status": "completed"
    },
    "tags": []
   },
   "source": [
    "<a id=\"3\"></a>\n",
    "\n",
    "\n",
    "# STATISTICS"
   ]
  },
  {
   "cell_type": "markdown",
   "id": "ebc2e593",
   "metadata": {
    "papermill": {
     "duration": 0.020022,
     "end_time": "2022-07-01T14:25:07.741082",
     "exception": false,
     "start_time": "2022-07-01T14:25:07.721060",
     "status": "completed"
    },
    "tags": []
   },
   "source": [
    "<a id=\"4\"></a>\n",
    "\n",
    "\n",
    "## HISTOGRAMS\n",
    "\n",
    "One of the best ways to describe a variable is to report the values that appear\n",
    "in the dataset and how many times each value appears.\n",
    "\n",
    "\n",
    "This description is called the **distribution** of the variable.\n",
    "\n",
    "\n",
    "The most common representation of a distribution is a *histogram*, which is a\n",
    "graph that shows the **frequency** of each value."
   ]
  },
  {
   "cell_type": "code",
   "execution_count": 6,
   "id": "099ea835",
   "metadata": {
    "execution": {
     "iopub.execute_input": "2022-07-01T14:25:07.784988Z",
     "iopub.status.busy": "2022-07-01T14:25:07.783693Z",
     "iopub.status.idle": "2022-07-01T14:25:08.015031Z",
     "shell.execute_reply": "2022-07-01T14:25:08.013965Z"
    },
    "papermill": {
     "duration": 0.25614,
     "end_time": "2022-07-01T14:25:08.017664",
     "exception": false,
     "start_time": "2022-07-01T14:25:07.761524",
     "status": "completed"
    },
    "tags": []
   },
   "outputs": [
    {
     "data": {
      "image/png": "[encoded data removed]",
      "text/plain": [
       "<Figure size 432x288 with 1 Axes>"
      ]
     },
     "metadata": {
      "needs_background": "light"
     },
     "output_type": "display_data"
    }
   ],
   "source": [
    "sns.histplot(data=data,x=\"Defense\");"
   ]
  },
  {
   "cell_type": "markdown",
   "id": "a2aeb10b",
   "metadata": {
    "papermill": {
     "duration": 0.020669,
     "end_time": "2022-07-01T14:25:08.060221",
     "exception": false,
     "start_time": "2022-07-01T14:25:08.039552",
     "status": "completed"
    },
    "tags": []
   },
   "source": [
    "* **Normal Distribution:** An idealization of a bell-shaped distribution : Gaussian Distribution.\n",
    "\n",
    "* **Uniform Distribution:** A distribution in which all values have the same frequency."
   ]
  },
  {
   "cell_type": "code",
   "execution_count": 7,
   "id": "79294952",
   "metadata": {
    "execution": {
     "iopub.execute_input": "2022-07-01T14:25:08.103406Z",
     "iopub.status.busy": "2022-07-01T14:25:08.102972Z",
     "iopub.status.idle": "2022-07-01T14:25:08.306703Z",
     "shell.execute_reply": "2022-07-01T14:25:08.305557Z"
    },
    "papermill": {
     "duration": 0.228012,
     "end_time": "2022-07-01T14:25:08.309063",
     "exception": false,
     "start_time": "2022-07-01T14:25:08.081051",
     "status": "completed"
    },
    "tags": []
   },
   "outputs": [
    {
     "name": "stderr",
     "output_type": "stream",
     "text": [
      "/opt/conda/lib/python3.7/site-packages/seaborn/distributions.py:2619: FutureWarning: `distplot` is a deprecated function and will be removed in a future version. Please adapt your code to use either `displot` (a figure-level function with similar flexibility) or `histplot` (an axes-level function for histograms).\n",
      "  warnings.warn(msg, FutureWarning)\n"
     ]
    },
    {
     "data": {
      "text/plain": [
       "<AxesSubplot:xlabel='Attack', ylabel='Density'>"
      ]
     },
     "execution_count": 7,
     "metadata": {},
     "output_type": "execute_result"
    },
    {
     "data": {
      "image/png": "[encoded data removed]",
      "text/plain": [
       "<Figure size 432x288 with 1 Axes>"
      ]
     },
     "metadata": {
      "needs_background": "light"
     },
     "output_type": "display_data"
    }
   ],
   "source": [
    "sns.distplot(data.Attack)"
   ]
  },
  {
   "cell_type": "code",
   "execution_count": 8,
   "id": "68a75fdc",
   "metadata": {
    "execution": {
     "iopub.execute_input": "2022-07-01T14:25:08.353938Z",
     "iopub.status.busy": "2022-07-01T14:25:08.352810Z",
     "iopub.status.idle": "2022-07-01T14:25:08.525357Z",
     "shell.execute_reply": "2022-07-01T14:25:08.524151Z"
    },
    "papermill": {
     "duration": 0.198161,
     "end_time": "2022-07-01T14:25:08.528389",
     "exception": false,
     "start_time": "2022-07-01T14:25:08.330228",
     "status": "completed"
    },
    "tags": []
   },
   "outputs": [
    {
     "data": {
      "text/plain": [
       "<AxesSubplot:xlabel='Generation', ylabel='Count'>"
      ]
     },
     "execution_count": 8,
     "metadata": {},
     "output_type": "execute_result"
    },
    {
     "data": {
      "image/png": "[encoded data removed]",
      "text/plain": [
       "<Figure size 432x288 with 1 Axes>"
      ]
     },
     "metadata": {
      "needs_background": "light"
     },
     "output_type": "display_data"
    }
   ],
   "source": [
    "sns.histplot(data=data,x=\"Generation\")"
   ]
  },
  {
   "cell_type": "code",
   "execution_count": 9,
   "id": "7196076a",
   "metadata": {
    "execution": {
     "iopub.execute_input": "2022-07-01T14:25:08.573138Z",
     "iopub.status.busy": "2022-07-01T14:25:08.572736Z",
     "iopub.status.idle": "2022-07-01T14:25:09.650002Z",
     "shell.execute_reply": "2022-07-01T14:25:09.648834Z"
    },
    "papermill": {
     "duration": 1.10317,
     "end_time": "2022-07-01T14:25:09.653055",
     "exception": false,
     "start_time": "2022-07-01T14:25:08.549885",
     "status": "completed"
    },
    "tags": []
   },
   "outputs": [
    {
     "data": {
      "text/plain": [
       "<AxesSubplot:xlabel='Speed', ylabel='Count'>"
      ]
     },
     "execution_count": 9,
     "metadata": {},
     "output_type": "execute_result"
    },
    {
     "data": {
      "image/png": "[encoded data removed]",
      "text/plain": [
       "<Figure size 432x288 with 1 Axes>"
      ]
     },
     "metadata": {
      "needs_background": "light"
     },
     "output_type": "display_data"
    }
   ],
   "source": [
    "sns.histplot(data=data,x=\"Speed\",hue=\"Type 2\")"
   ]
  },
  {
   "cell_type": "code",
   "execution_count": 10,
   "id": "caa5c19d",
   "metadata": {
    "execution": {
     "iopub.execute_input": "2022-07-01T14:25:09.699788Z",
     "iopub.status.busy": "2022-07-01T14:25:09.699057Z",
     "iopub.status.idle": "2022-07-01T14:25:11.080065Z",
     "shell.execute_reply": "2022-07-01T14:25:11.078928Z"
    },
    "papermill": {
     "duration": 1.407465,
     "end_time": "2022-07-01T14:25:11.082775",
     "exception": false,
     "start_time": "2022-07-01T14:25:09.675310",
     "status": "completed"
    },
    "tags": []
   },
   "outputs": [
    {
     "data": {
      "text/plain": [
       "<AxesSubplot:xlabel='Speed', ylabel='Count'>"
      ]
     },
     "execution_count": 10,
     "metadata": {},
     "output_type": "execute_result"
    },
    {
     "data": {
      "image/png": "[encoded data removed]",
      "text/plain": [
       "<Figure size 432x288 with 1 Axes>"
      ]
     },
     "metadata": {
      "needs_background": "light"
     },
     "output_type": "display_data"
    }
   ],
   "source": [
    "sns.histplot(data=data,x=\"Speed\",hue=\"Type 1\")"
   ]
  },
  {
   "cell_type": "markdown",
   "id": "dfc73037",
   "metadata": {
    "papermill": {
     "duration": 0.022644,
     "end_time": "2022-07-01T14:25:11.129662",
     "exception": false,
     "start_time": "2022-07-01T14:25:11.107018",
     "status": "completed"
    },
    "tags": []
   },
   "source": [
    "Looking at histograms, it is easy to identify the most common values and\n",
    "the shape of the distribution, but rare values are not always visible."
   ]
  },
  {
   "cell_type": "markdown",
   "id": "566e29b8",
   "metadata": {
    "papermill": {
     "duration": 0.022293,
     "end_time": "2022-07-01T14:25:11.174671",
     "exception": false,
     "start_time": "2022-07-01T14:25:11.152378",
     "status": "completed"
    },
    "tags": []
   },
   "source": [
    "<a id=\"5\"></a>\n",
    "\n",
    "\n",
    "## SUMMARY STATISTICS"
   ]
  },
  {
   "attachments": {
    "be36d9bf-4340-4634-b171-ffecd9301c37.png": {
     "image/png": "[encoded data removed]"
    }
   },
   "cell_type": "markdown",
   "id": "0111e532",
   "metadata": {
    "papermill": {
     "duration": 0.022503,
     "end_time": "2022-07-01T14:25:11.219917",
     "exception": false,
     "start_time": "2022-07-01T14:25:11.197414",
     "status": "completed"
    },
    "tags": []
   },
   "source": [
    "<a id=\"6\"></a>\n",
    "\n",
    "### MEAN (AVERAGE)\n",
    "\n",
    "Let's say we have sample of **n** values: **x**\n",
    "\n",
    "![mean.png](attachment:be36d9bf-4340-4634-b171-ffecd9301c37.png)"
   ]
  },
  {
   "cell_type": "code",
   "execution_count": 11,
   "id": "5d3ef893",
   "metadata": {
    "execution": {
     "iopub.execute_input": "2022-07-01T14:25:11.267711Z",
     "iopub.status.busy": "2022-07-01T14:25:11.266983Z",
     "iopub.status.idle": "2022-07-01T14:25:11.273369Z",
     "shell.execute_reply": "2022-07-01T14:25:11.271931Z"
    },
    "papermill": {
     "duration": 0.033049,
     "end_time": "2022-07-01T14:25:11.275744",
     "exception": false,
     "start_time": "2022-07-01T14:25:11.242695",
     "status": "completed"
    },
    "tags": []
   },
   "outputs": [
    {
     "name": "stdout",
     "output_type": "stream",
     "text": [
      "Mean of Speed:  68.2775\n",
      "Mean of Attack:  79.00125\n"
     ]
    }
   ],
   "source": [
    "print(\"Mean of Speed: \",data.Speed.mean())\n",
    "print(\"Mean of Attack: \",data.Attack.mean())"
   ]
  },
  {
   "cell_type": "markdown",
   "id": "2f7440d0",
   "metadata": {
    "papermill": {
     "duration": 0.022865,
     "end_time": "2022-07-01T14:25:11.321910",
     "exception": false,
     "start_time": "2022-07-01T14:25:11.299045",
     "status": "completed"
    },
    "tags": []
   },
   "source": [
    "<a id=\"7\"></a>\n",
    "\n",
    "\n",
    "## MEDIAN\n",
    "\n",
    "\n",
    "* Median is the middle-most value (if the number of data points is odd) or the average of the two middle-most values (if the number of data points is even).\n",
    "* The median represents the value less than which 50% of the data lies."
   ]
  },
  {
   "cell_type": "code",
   "execution_count": 12,
   "id": "9abe9e69",
   "metadata": {
    "execution": {
     "iopub.execute_input": "2022-07-01T14:25:11.369335Z",
     "iopub.status.busy": "2022-07-01T14:25:11.368915Z",
     "iopub.status.idle": "2022-07-01T14:25:11.375733Z",
     "shell.execute_reply": "2022-07-01T14:25:11.374566Z"
    },
    "papermill": {
     "duration": 0.033358,
     "end_time": "2022-07-01T14:25:11.378068",
     "exception": false,
     "start_time": "2022-07-01T14:25:11.344710",
     "status": "completed"
    },
    "tags": []
   },
   "outputs": [
    {
     "name": "stdout",
     "output_type": "stream",
     "text": [
      "Median of Speed:  65.0\n",
      "Median of Attack:  75.0\n"
     ]
    }
   ],
   "source": [
    "print(\"Median of Speed: \",data.Speed.median())\n",
    "print(\"Median of Attack: \",data.Attack.median())"
   ]
  },
  {
   "attachments": {
    "90d62315-351d-4b81-bbb3-e23a5a974228.png": {
     "image/png": "[encoded data removed]"
    }
   },
   "cell_type": "markdown",
   "id": "0c9f6eaa",
   "metadata": {
    "papermill": {
     "duration": 0.023738,
     "end_time": "2022-07-01T14:25:11.424702",
     "exception": false,
     "start_time": "2022-07-01T14:25:11.400964",
     "status": "completed"
    },
    "tags": []
   },
   "source": [
    "<a id=\"8\"></a>\n",
    "\n",
    "\n",
    "## QUANTILE\n",
    "\n",
    "* A generalization of the median is the quantile, which represents the value less than which a certain percentile of the data lies.\n",
    "\n",
    "\n",
    "![image.png](attachment:90d62315-351d-4b81-bbb3-e23a5a974228.png)"
   ]
  },
  {
   "cell_type": "markdown",
   "id": "38ec7a9a",
   "metadata": {
    "papermill": {
     "duration": 0.022452,
     "end_time": "2022-07-01T14:25:11.470032",
     "exception": false,
     "start_time": "2022-07-01T14:25:11.447580",
     "status": "completed"
    },
    "tags": []
   },
   "source": [
    "**First Quantile: (%25):**\n",
    "\n",
    "The first quantile (Q1) is defined as the middle number between the smallest number (minimum) and the median of the data set.\n",
    "\n",
    "**Second Quantile : (%50) Median**\n",
    "\n",
    "**Third Quantile: (%75):**\n",
    "\n",
    "The third quantile (Q3) is the middle value between the median and the highest value (maximum) of the data set."
   ]
  },
  {
   "cell_type": "code",
   "execution_count": 13,
   "id": "c2b646d5",
   "metadata": {
    "execution": {
     "iopub.execute_input": "2022-07-01T14:25:11.517973Z",
     "iopub.status.busy": "2022-07-01T14:25:11.517559Z",
     "iopub.status.idle": "2022-07-01T14:25:11.529403Z",
     "shell.execute_reply": "2022-07-01T14:25:11.527345Z"
    },
    "papermill": {
     "duration": 0.039945,
     "end_time": "2022-07-01T14:25:11.532803",
     "exception": false,
     "start_time": "2022-07-01T14:25:11.492858",
     "status": "completed"
    },
    "tags": []
   },
   "outputs": [
    {
     "name": "stdout",
     "output_type": "stream",
     "text": [
      "First Quertile:  45.0\n",
      "Second Quertile (Median):  65.0\n",
      "Third Quertile:  90.0\n"
     ]
    }
   ],
   "source": [
    "q1=data.Speed.quantile(0.25)\n",
    "q2=data.Speed.quantile(0.50) # Median\n",
    "q3=data.Speed.quantile(0.75)\n",
    "\n",
    "print(\"First Quertile: \",q1)\n",
    "print(\"Second Quertile (Median): \",q2)\n",
    "print(\"Third Quertile: \",q3)\n"
   ]
  },
  {
   "cell_type": "markdown",
   "id": "508ea43b",
   "metadata": {
    "execution": {
     "iopub.execute_input": "2022-07-01T07:16:29.161137Z",
     "iopub.status.busy": "2022-07-01T07:16:29.160742Z",
     "iopub.status.idle": "2022-07-01T07:16:29.167255Z",
     "shell.execute_reply": "2022-07-01T07:16:29.166238Z",
     "shell.execute_reply.started": "2022-07-01T07:16:29.161097Z"
    },
    "papermill": {
     "duration": 0.023417,
     "end_time": "2022-07-01T14:25:11.580343",
     "exception": false,
     "start_time": "2022-07-01T14:25:11.556926",
     "status": "completed"
    },
    "tags": []
   },
   "source": [
    "<a id=\"9\"></a>\n",
    "\n",
    "## OUTLIERS\n",
    "\n",
    "Check for **outliers**, which are extreme values that might be errors in measurement and recording, or might be accurate reports of rare events.\n",
    "\n",
    "The **Interquartile Range (IQR)** is a measure of statistical dispersion, which is the spread of the data: **Q3-Q1**"
   ]
  },
  {
   "cell_type": "code",
   "execution_count": 14,
   "id": "16981ead",
   "metadata": {
    "execution": {
     "iopub.execute_input": "2022-07-01T14:25:11.629485Z",
     "iopub.status.busy": "2022-07-01T14:25:11.628822Z",
     "iopub.status.idle": "2022-07-01T14:25:11.638747Z",
     "shell.execute_reply": "2022-07-01T14:25:11.637250Z"
    },
    "papermill": {
     "duration": 0.037656,
     "end_time": "2022-07-01T14:25:11.641541",
     "exception": false,
     "start_time": "2022-07-01T14:25:11.603885",
     "status": "completed"
    },
    "tags": []
   },
   "outputs": [
    {
     "name": "stdout",
     "output_type": "stream",
     "text": [
      "First Quertile:  55.0\n",
      "Third Quertile:  100.0\n",
      "Inter Quertile:  45.0\n"
     ]
    }
   ],
   "source": [
    "Q1=data.Attack.quantile(0.25)\n",
    "Q3=data.Attack.quantile(0.75)\n",
    "IQR=Q3-Q1\n",
    "\n",
    "print(\"First Quertile: \",Q1)\n",
    "print(\"Third Quertile: \",Q3)\n",
    "print(\"Inter Quertile: \",IQR)"
   ]
  },
  {
   "cell_type": "markdown",
   "id": "2d6124a0",
   "metadata": {
    "papermill": {
     "duration": 0.023179,
     "end_time": "2022-07-01T14:25:11.687902",
     "exception": false,
     "start_time": "2022-07-01T14:25:11.664723",
     "status": "completed"
    },
    "tags": []
   },
   "source": [
    "<a id=\"10\"></a>\n",
    "\n",
    "\n",
    "### VISUALIZE OUTLIERS (BOX PLOT)"
   ]
  },
  {
   "cell_type": "code",
   "execution_count": 15,
   "id": "1f8e4911",
   "metadata": {
    "execution": {
     "iopub.execute_input": "2022-07-01T14:25:11.737095Z",
     "iopub.status.busy": "2022-07-01T14:25:11.736345Z",
     "iopub.status.idle": "2022-07-01T14:25:12.007933Z",
     "shell.execute_reply": "2022-07-01T14:25:12.006744Z"
    },
    "papermill": {
     "duration": 0.299178,
     "end_time": "2022-07-01T14:25:12.010462",
     "exception": false,
     "start_time": "2022-07-01T14:25:11.711284",
     "status": "completed"
    },
    "tags": []
   },
   "outputs": [
    {
     "data": {
      "text/plain": [
       "<AxesSubplot:>"
      ]
     },
     "execution_count": 15,
     "metadata": {},
     "output_type": "execute_result"
    },
    {
     "data": {
      "image/png": "[encoded data removed]",
      "text/plain": [
       "<Figure size 432x288 with 1 Axes>"
      ]
     },
     "metadata": {
      "needs_background": "light"
     },
     "output_type": "display_data"
    }
   ],
   "source": [
    "plt.xticks(rotation=90)\n",
    "sns.boxplot(data=data)"
   ]
  },
  {
   "cell_type": "markdown",
   "id": "66672220",
   "metadata": {
    "papermill": {
     "duration": 0.025503,
     "end_time": "2022-07-01T14:25:12.059712",
     "exception": false,
     "start_time": "2022-07-01T14:25:12.034209",
     "status": "completed"
    },
    "tags": []
   },
   "source": [
    "<a id=\"11\"></a>\n",
    "\n",
    "\n",
    "# MODE\n",
    "\n",
    " * Most- common value(s)"
   ]
  },
  {
   "cell_type": "code",
   "execution_count": 16,
   "id": "43306f94",
   "metadata": {
    "execution": {
     "iopub.execute_input": "2022-07-01T14:25:12.110406Z",
     "iopub.status.busy": "2022-07-01T14:25:12.109292Z",
     "iopub.status.idle": "2022-07-01T14:25:12.117557Z",
     "shell.execute_reply": "2022-07-01T14:25:12.116104Z"
    },
    "papermill": {
     "duration": 0.035726,
     "end_time": "2022-07-01T14:25:12.119689",
     "exception": false,
     "start_time": "2022-07-01T14:25:12.083963",
     "status": "completed"
    },
    "tags": []
   },
   "outputs": [
    {
     "name": "stdout",
     "output_type": "stream",
     "text": [
      "Mode of Speed:  0    50\n",
      "dtype: int64\n",
      "Mode of Attack:  0    100\n",
      "dtype: int64\n"
     ]
    }
   ],
   "source": [
    "print(\"Mode of Speed: \",data.Speed.mode())\n",
    "print(\"Mode of Attack: \",data.Attack.mode())"
   ]
  },
  {
   "cell_type": "markdown",
   "id": "a6f553e7",
   "metadata": {
    "papermill": {
     "duration": 0.023777,
     "end_time": "2022-07-01T14:25:12.167898",
     "exception": false,
     "start_time": "2022-07-01T14:25:12.144121",
     "status": "completed"
    },
    "tags": []
   },
   "source": [
    "<a id=\"12\"></a>\n",
    "\n",
    "## VARIANCE\n",
    "\n",
    "* Spread distributions"
   ]
  },
  {
   "cell_type": "code",
   "execution_count": 17,
   "id": "a86253d2",
   "metadata": {
    "execution": {
     "iopub.execute_input": "2022-07-01T14:25:12.218493Z",
     "iopub.status.busy": "2022-07-01T14:25:12.217796Z",
     "iopub.status.idle": "2022-07-01T14:25:12.224481Z",
     "shell.execute_reply": "2022-07-01T14:25:12.223241Z"
    },
    "papermill": {
     "duration": 0.035157,
     "end_time": "2022-07-01T14:25:12.227093",
     "exception": false,
     "start_time": "2022-07-01T14:25:12.191936",
     "status": "completed"
    },
    "tags": []
   },
   "outputs": [
    {
     "name": "stdout",
     "output_type": "stream",
     "text": [
      "Variance of Speed:  844.5111326658323\n",
      "Variance of Attack:  1053.4805991864832\n"
     ]
    }
   ],
   "source": [
    "print(\"Variance of Speed: \",data.Speed.var())\n",
    "print(\"Variance of Attack: \",data.Attack.var())"
   ]
  },
  {
   "attachments": {
    "c41001c8-17dc-42c7-9515-fd393b757d10.png": {
     "image/png": "[encoded data removed]"
    }
   },
   "cell_type": "markdown",
   "id": "f1c15259",
   "metadata": {
    "papermill": {
     "duration": 0.023907,
     "end_time": "2022-07-01T14:25:12.275922",
     "exception": false,
     "start_time": "2022-07-01T14:25:12.252015",
     "status": "completed"
    },
    "tags": []
   },
   "source": [
    "<a id=\"13\"></a>\n",
    "\n",
    "\n",
    "## STANDARD DEVIATION\n",
    "\n",
    "Square root of variance\n",
    "\n",
    "![var.png](attachment:c41001c8-17dc-42c7-9515-fd393b757d10.png)"
   ]
  },
  {
   "cell_type": "code",
   "execution_count": 18,
   "id": "57e26804",
   "metadata": {
    "execution": {
     "iopub.execute_input": "2022-07-01T14:25:12.326584Z",
     "iopub.status.busy": "2022-07-01T14:25:12.326202Z",
     "iopub.status.idle": "2022-07-01T14:25:12.332958Z",
     "shell.execute_reply": "2022-07-01T14:25:12.331912Z"
    },
    "papermill": {
     "duration": 0.035012,
     "end_time": "2022-07-01T14:25:12.335574",
     "exception": false,
     "start_time": "2022-07-01T14:25:12.300562",
     "status": "completed"
    },
    "tags": []
   },
   "outputs": [
    {
     "name": "stdout",
     "output_type": "stream",
     "text": [
      "Standard Deviation of Speed:  29.060473717161464\n",
      "Standard Deviation of Attack:  32.45736586949845\n"
     ]
    }
   ],
   "source": [
    "print(\"Standard Deviation of Speed: \",data.Speed.std())\n",
    "print(\"Standard Deviation of Attack: \",data.Attack.std())"
   ]
  },
  {
   "cell_type": "code",
   "execution_count": 19,
   "id": "1aac045e",
   "metadata": {
    "execution": {
     "iopub.execute_input": "2022-07-01T14:25:12.385564Z",
     "iopub.status.busy": "2022-07-01T14:25:12.385165Z",
     "iopub.status.idle": "2022-07-01T14:25:12.420879Z",
     "shell.execute_reply": "2022-07-01T14:25:12.419780Z"
    },
    "papermill": {
     "duration": 0.063528,
     "end_time": "2022-07-01T14:25:12.423138",
     "exception": false,
     "start_time": "2022-07-01T14:25:12.359610",
     "status": "completed"
    },
    "tags": []
   },
   "outputs": [
    {
     "data": {
      "text/html": [
       "<div>\n",
       "<style scoped>\n",
       "    .dataframe tbody tr th:only-of-type {\n",
       "        vertical-align: middle;\n",
       "    }\n",
       "\n",
       "    .dataframe tbody tr th {\n",
       "        vertical-align: top;\n",
       "    }\n",
       "\n",
       "    .dataframe thead th {\n",
       "        text-align: right;\n",
       "    }\n",
       "</style>\n",
       "<table border=\"1\" class=\"dataframe\">\n",
       "  <thead>\n",
       "    <tr style=\"text-align: right;\">\n",
       "      <th></th>\n",
       "      <th>count</th>\n",
       "      <th>mean</th>\n",
       "      <th>std</th>\n",
       "      <th>min</th>\n",
       "      <th>25%</th>\n",
       "      <th>50%</th>\n",
       "      <th>75%</th>\n",
       "      <th>max</th>\n",
       "    </tr>\n",
       "  </thead>\n",
       "  <tbody>\n",
       "    <tr>\n",
       "      <th>HP</th>\n",
       "      <td>800.0</td>\n",
       "      <td>69.25875</td>\n",
       "      <td>25.534669</td>\n",
       "      <td>1.0</td>\n",
       "      <td>50.00</td>\n",
       "      <td>65.0</td>\n",
       "      <td>80.0</td>\n",
       "      <td>255.0</td>\n",
       "    </tr>\n",
       "    <tr>\n",
       "      <th>Attack</th>\n",
       "      <td>800.0</td>\n",
       "      <td>79.00125</td>\n",
       "      <td>32.457366</td>\n",
       "      <td>5.0</td>\n",
       "      <td>55.00</td>\n",
       "      <td>75.0</td>\n",
       "      <td>100.0</td>\n",
       "      <td>190.0</td>\n",
       "    </tr>\n",
       "    <tr>\n",
       "      <th>Defense</th>\n",
       "      <td>800.0</td>\n",
       "      <td>73.84250</td>\n",
       "      <td>31.183501</td>\n",
       "      <td>5.0</td>\n",
       "      <td>50.00</td>\n",
       "      <td>70.0</td>\n",
       "      <td>90.0</td>\n",
       "      <td>230.0</td>\n",
       "    </tr>\n",
       "    <tr>\n",
       "      <th>Sp. Atk</th>\n",
       "      <td>800.0</td>\n",
       "      <td>72.82000</td>\n",
       "      <td>32.722294</td>\n",
       "      <td>10.0</td>\n",
       "      <td>49.75</td>\n",
       "      <td>65.0</td>\n",
       "      <td>95.0</td>\n",
       "      <td>194.0</td>\n",
       "    </tr>\n",
       "    <tr>\n",
       "      <th>Sp. Def</th>\n",
       "      <td>800.0</td>\n",
       "      <td>71.90250</td>\n",
       "      <td>27.828916</td>\n",
       "      <td>20.0</td>\n",
       "      <td>50.00</td>\n",
       "      <td>70.0</td>\n",
       "      <td>90.0</td>\n",
       "      <td>230.0</td>\n",
       "    </tr>\n",
       "    <tr>\n",
       "      <th>Speed</th>\n",
       "      <td>800.0</td>\n",
       "      <td>68.27750</td>\n",
       "      <td>29.060474</td>\n",
       "      <td>5.0</td>\n",
       "      <td>45.00</td>\n",
       "      <td>65.0</td>\n",
       "      <td>90.0</td>\n",
       "      <td>180.0</td>\n",
       "    </tr>\n",
       "    <tr>\n",
       "      <th>Generation</th>\n",
       "      <td>800.0</td>\n",
       "      <td>3.32375</td>\n",
       "      <td>1.661290</td>\n",
       "      <td>1.0</td>\n",
       "      <td>2.00</td>\n",
       "      <td>3.0</td>\n",
       "      <td>5.0</td>\n",
       "      <td>6.0</td>\n",
       "    </tr>\n",
       "  </tbody>\n",
       "</table>\n",
       "</div>"
      ],
      "text/plain": [
       "            count      mean        std   min    25%   50%    75%    max\n",
       "HP          800.0  69.25875  25.534669   1.0  50.00  65.0   80.0  255.0\n",
       "Attack      800.0  79.00125  32.457366   5.0  55.00  75.0  100.0  190.0\n",
       "Defense     800.0  73.84250  31.183501   5.0  50.00  70.0   90.0  230.0\n",
       "Sp. Atk     800.0  72.82000  32.722294  10.0  49.75  65.0   95.0  194.0\n",
       "Sp. Def     800.0  71.90250  27.828916  20.0  50.00  70.0   90.0  230.0\n",
       "Speed       800.0  68.27750  29.060474   5.0  45.00  65.0   90.0  180.0\n",
       "Generation  800.0   3.32375   1.661290   1.0   2.00   3.0    5.0    6.0"
      ]
     },
     "execution_count": 19,
     "metadata": {},
     "output_type": "execute_result"
    }
   ],
   "source": [
    "data.describe().T"
   ]
  },
  {
   "cell_type": "markdown",
   "id": "b9abaecd",
   "metadata": {
    "papermill": {
     "duration": 0.024054,
     "end_time": "2022-07-01T14:25:12.471279",
     "exception": false,
     "start_time": "2022-07-01T14:25:12.447225",
     "status": "completed"
    },
    "tags": []
   },
   "source": [
    "<a id=\"14\"></a>\n",
    "\n",
    "\n",
    "# RELATIONSHIP BETWEEN VARIABLES"
   ]
  },
  {
   "cell_type": "code",
   "execution_count": 20,
   "id": "59eaf861",
   "metadata": {
    "execution": {
     "iopub.execute_input": "2022-07-01T14:25:12.522247Z",
     "iopub.status.busy": "2022-07-01T14:25:12.521568Z",
     "iopub.status.idle": "2022-07-01T14:25:13.261497Z",
     "shell.execute_reply": "2022-07-01T14:25:13.260327Z"
    },
    "papermill": {
     "duration": 0.767989,
     "end_time": "2022-07-01T14:25:13.264113",
     "exception": false,
     "start_time": "2022-07-01T14:25:12.496124",
     "status": "completed"
    },
    "tags": []
   },
   "outputs": [
    {
     "name": "stderr",
     "output_type": "stream",
     "text": [
      "/opt/conda/lib/python3.7/site-packages/seaborn/_decorators.py:43: FutureWarning: Pass the following variables as keyword args: x, y. From version 0.12, the only valid positional argument will be `data`, and passing other arguments without an explicit keyword will result in an error or misinterpretation.\n",
      "  FutureWarning\n"
     ]
    },
    {
     "data": {
      "text/plain": [
       "<Figure size 1080x720 with 0 Axes>"
      ]
     },
     "metadata": {},
     "output_type": "display_data"
    },
    {
     "data": {
      "image/png": "[encoded data removed]",
      "text/plain": [
       "<Figure size 432x432 with 3 Axes>"
      ]
     },
     "metadata": {
      "needs_background": "light"
     },
     "output_type": "display_data"
    }
   ],
   "source": [
    "plt.figure(figsize = (15,10))\n",
    "sns.jointplot(data.Speed,data.Attack,kind=\"reg\")\n",
    "plt.show()"
   ]
  },
  {
   "cell_type": "markdown",
   "id": "e7e8b2e5",
   "metadata": {
    "papermill": {
     "duration": 0.027264,
     "end_time": "2022-07-01T14:25:13.317737",
     "exception": false,
     "start_time": "2022-07-01T14:25:13.290473",
     "status": "completed"
    },
    "tags": []
   },
   "source": [
    "<a id=\"15\"></a>\n",
    "\n",
    "\n",
    "# CORRELATION\n",
    "\n",
    "* Strength of the relationship between two variables."
   ]
  },
  {
   "cell_type": "code",
   "execution_count": 21,
   "id": "9c8f171b",
   "metadata": {
    "execution": {
     "iopub.execute_input": "2022-07-01T14:25:13.371816Z",
     "iopub.status.busy": "2022-07-01T14:25:13.371379Z",
     "iopub.status.idle": "2022-07-01T14:25:13.390438Z",
     "shell.execute_reply": "2022-07-01T14:25:13.389108Z"
    },
    "papermill": {
     "duration": 0.048655,
     "end_time": "2022-07-01T14:25:13.392937",
     "exception": false,
     "start_time": "2022-07-01T14:25:13.344282",
     "status": "completed"
    },
    "tags": []
   },
   "outputs": [
    {
     "data": {
      "text/html": [
       "<div>\n",
       "<style scoped>\n",
       "    .dataframe tbody tr th:only-of-type {\n",
       "        vertical-align: middle;\n",
       "    }\n",
       "\n",
       "    .dataframe tbody tr th {\n",
       "        vertical-align: top;\n",
       "    }\n",
       "\n",
       "    .dataframe thead th {\n",
       "        text-align: right;\n",
       "    }\n",
       "</style>\n",
       "<table border=\"1\" class=\"dataframe\">\n",
       "  <thead>\n",
       "    <tr style=\"text-align: right;\">\n",
       "      <th></th>\n",
       "      <th>HP</th>\n",
       "      <th>Attack</th>\n",
       "      <th>Defense</th>\n",
       "      <th>Sp. Atk</th>\n",
       "      <th>Sp. Def</th>\n",
       "      <th>Speed</th>\n",
       "      <th>Generation</th>\n",
       "      <th>Legendary</th>\n",
       "    </tr>\n",
       "  </thead>\n",
       "  <tbody>\n",
       "    <tr>\n",
       "      <th>HP</th>\n",
       "      <td>1.000000</td>\n",
       "      <td>0.422386</td>\n",
       "      <td>0.239622</td>\n",
       "      <td>0.362380</td>\n",
       "      <td>0.378718</td>\n",
       "      <td>0.175952</td>\n",
       "      <td>0.058683</td>\n",
       "      <td>0.273620</td>\n",
       "    </tr>\n",
       "    <tr>\n",
       "      <th>Attack</th>\n",
       "      <td>0.422386</td>\n",
       "      <td>1.000000</td>\n",
       "      <td>0.438687</td>\n",
       "      <td>0.396362</td>\n",
       "      <td>0.263990</td>\n",
       "      <td>0.381240</td>\n",
       "      <td>0.051451</td>\n",
       "      <td>0.345408</td>\n",
       "    </tr>\n",
       "    <tr>\n",
       "      <th>Defense</th>\n",
       "      <td>0.239622</td>\n",
       "      <td>0.438687</td>\n",
       "      <td>1.000000</td>\n",
       "      <td>0.223549</td>\n",
       "      <td>0.510747</td>\n",
       "      <td>0.015227</td>\n",
       "      <td>0.042419</td>\n",
       "      <td>0.246377</td>\n",
       "    </tr>\n",
       "    <tr>\n",
       "      <th>Sp. Atk</th>\n",
       "      <td>0.362380</td>\n",
       "      <td>0.396362</td>\n",
       "      <td>0.223549</td>\n",
       "      <td>1.000000</td>\n",
       "      <td>0.506121</td>\n",
       "      <td>0.473018</td>\n",
       "      <td>0.036437</td>\n",
       "      <td>0.448907</td>\n",
       "    </tr>\n",
       "    <tr>\n",
       "      <th>Sp. Def</th>\n",
       "      <td>0.378718</td>\n",
       "      <td>0.263990</td>\n",
       "      <td>0.510747</td>\n",
       "      <td>0.506121</td>\n",
       "      <td>1.000000</td>\n",
       "      <td>0.259133</td>\n",
       "      <td>0.028486</td>\n",
       "      <td>0.363937</td>\n",
       "    </tr>\n",
       "    <tr>\n",
       "      <th>Speed</th>\n",
       "      <td>0.175952</td>\n",
       "      <td>0.381240</td>\n",
       "      <td>0.015227</td>\n",
       "      <td>0.473018</td>\n",
       "      <td>0.259133</td>\n",
       "      <td>1.000000</td>\n",
       "      <td>-0.023121</td>\n",
       "      <td>0.326715</td>\n",
       "    </tr>\n",
       "    <tr>\n",
       "      <th>Generation</th>\n",
       "      <td>0.058683</td>\n",
       "      <td>0.051451</td>\n",
       "      <td>0.042419</td>\n",
       "      <td>0.036437</td>\n",
       "      <td>0.028486</td>\n",
       "      <td>-0.023121</td>\n",
       "      <td>1.000000</td>\n",
       "      <td>0.079794</td>\n",
       "    </tr>\n",
       "    <tr>\n",
       "      <th>Legendary</th>\n",
       "      <td>0.273620</td>\n",
       "      <td>0.345408</td>\n",
       "      <td>0.246377</td>\n",
       "      <td>0.448907</td>\n",
       "      <td>0.363937</td>\n",
       "      <td>0.326715</td>\n",
       "      <td>0.079794</td>\n",
       "      <td>1.000000</td>\n",
       "    </tr>\n",
       "  </tbody>\n",
       "</table>\n",
       "</div>"
      ],
      "text/plain": [
       "                  HP    Attack   Defense   Sp. Atk   Sp. Def     Speed  \\\n",
       "HP          1.000000  0.422386  0.239622  0.362380  0.378718  0.175952   \n",
       "Attack      0.422386  1.000000  0.438687  0.396362  0.263990  0.381240   \n",
       "Defense     0.239622  0.438687  1.000000  0.223549  0.510747  0.015227   \n",
       "Sp. Atk     0.362380  0.396362  0.223549  1.000000  0.506121  0.473018   \n",
       "Sp. Def     0.378718  0.263990  0.510747  0.506121  1.000000  0.259133   \n",
       "Speed       0.175952  0.381240  0.015227  0.473018  0.259133  1.000000   \n",
       "Generation  0.058683  0.051451  0.042419  0.036437  0.028486 -0.023121   \n",
       "Legendary   0.273620  0.345408  0.246377  0.448907  0.363937  0.326715   \n",
       "\n",
       "            Generation  Legendary  \n",
       "HP            0.058683   0.273620  \n",
       "Attack        0.051451   0.345408  \n",
       "Defense       0.042419   0.246377  \n",
       "Sp. Atk       0.036437   0.448907  \n",
       "Sp. Def       0.028486   0.363937  \n",
       "Speed        -0.023121   0.326715  \n",
       "Generation    1.000000   0.079794  \n",
       "Legendary     0.079794   1.000000  "
      ]
     },
     "execution_count": 21,
     "metadata": {},
     "output_type": "execute_result"
    }
   ],
   "source": [
    "data.corr() # Correlation between all variables."
   ]
  },
  {
   "cell_type": "markdown",
   "id": "453877d8",
   "metadata": {
    "papermill": {
     "duration": 0.026196,
     "end_time": "2022-07-01T14:25:13.446419",
     "exception": false,
     "start_time": "2022-07-01T14:25:13.420223",
     "status": "completed"
    },
    "tags": []
   },
   "source": [
    "* If the correlation value of two variable is 1: they are **positively correlated** with each other.\n",
    "* If the correlation value of two variable is -1: they are **negatively correlated** with each other.\n",
    "* If the correlation value of two variable is 0: there is **no correlation** between them."
   ]
  },
  {
   "cell_type": "markdown",
   "id": "d92a350c",
   "metadata": {
    "papermill": {
     "duration": 0.026242,
     "end_time": "2022-07-01T14:25:13.499091",
     "exception": false,
     "start_time": "2022-07-01T14:25:13.472849",
     "status": "completed"
    },
    "tags": []
   },
   "source": [
    "#### Lets visualize it"
   ]
  },
  {
   "cell_type": "markdown",
   "id": "8a6a8988",
   "metadata": {
    "papermill": {
     "duration": 0.026208,
     "end_time": "2022-07-01T14:25:13.551742",
     "exception": false,
     "start_time": "2022-07-01T14:25:13.525534",
     "status": "completed"
    },
    "tags": []
   },
   "source": [
    "<a id=\"16\"></a>\n",
    "\n",
    "\n",
    "\n",
    "## VISUALIZE CORRELATION (HEAT MAP)"
   ]
  },
  {
   "cell_type": "code",
   "execution_count": 22,
   "id": "eb276e83",
   "metadata": {
    "execution": {
     "iopub.execute_input": "2022-07-01T14:25:13.607000Z",
     "iopub.status.busy": "2022-07-01T14:25:13.606630Z",
     "iopub.status.idle": "2022-07-01T14:25:13.611907Z",
     "shell.execute_reply": "2022-07-01T14:25:13.610742Z"
    },
    "papermill": {
     "duration": 0.035611,
     "end_time": "2022-07-01T14:25:13.614263",
     "exception": false,
     "start_time": "2022-07-01T14:25:13.578652",
     "status": "completed"
    },
    "tags": []
   },
   "outputs": [],
   "source": [
    "correlation=data.corr()"
   ]
  },
  {
   "cell_type": "code",
   "execution_count": 23,
   "id": "61d05209",
   "metadata": {
    "execution": {
     "iopub.execute_input": "2022-07-01T14:25:13.669344Z",
     "iopub.status.busy": "2022-07-01T14:25:13.668953Z",
     "iopub.status.idle": "2022-07-01T14:25:14.199973Z",
     "shell.execute_reply": "2022-07-01T14:25:14.198423Z"
    },
    "papermill": {
     "duration": 0.561935,
     "end_time": "2022-07-01T14:25:14.202631",
     "exception": false,
     "start_time": "2022-07-01T14:25:13.640696",
     "status": "completed"
    },
    "tags": []
   },
   "outputs": [
    {
     "data": {
      "image/png": "[encoded data removed]",
      "text/plain": [
       "<Figure size 720x720 with 2 Axes>"
      ]
     },
     "metadata": {
      "needs_background": "light"
     },
     "output_type": "display_data"
    }
   ],
   "source": [
    "f,ax = plt.subplots(figsize=(10,10))\n",
    "sns.heatmap(correlation, annot=True, linewidths=0.5, fmt= '.2f',ax=ax,cmap=\"YlGnBu\")\n",
    "plt.show()"
   ]
  },
  {
   "cell_type": "markdown",
   "id": "dd286294",
   "metadata": {
    "papermill": {
     "duration": 0.028801,
     "end_time": "2022-07-01T14:25:14.259901",
     "exception": false,
     "start_time": "2022-07-01T14:25:14.231100",
     "status": "completed"
    },
    "tags": []
   },
   "source": [
    "### Do not forget correlation is not causation. 😉😉😉"
   ]
  },
  {
   "attachments": {
    "0f3f57d2-ea2b-45ba-a618-703fd6583194.png": {
     "image/png": "[encoded data removed]"
    },
    "19202801-08b3-456d-97f6-616dc9b1c1ef.png": {
     "image/png": "[encoded data removed]"
    }
   },
   "cell_type": "markdown",
   "id": "0b9ee49f",
   "metadata": {
    "papermill": {
     "duration": 0.027459,
     "end_time": "2022-07-01T14:25:14.315952",
     "exception": false,
     "start_time": "2022-07-01T14:25:14.288493",
     "status": "completed"
    },
    "tags": []
   },
   "source": [
    "<a id=\"17\"></a>\n",
    "\n",
    "\n",
    "# COVARIANCE\n",
    "\n",
    "\n",
    "* Measure of the tendency of two variables to vary together.\n",
    "\n",
    "![2.png](attachment:0f3f57d2-ea2b-45ba-a618-703fd6583194.png)\n",
    "\n",
    "\n",
    "\n",
    "![1.png](attachment:19202801-08b3-456d-97f6-616dc9b1c1ef.png)\n"
   ]
  },
  {
   "cell_type": "code",
   "execution_count": 24,
   "id": "b70dca8e",
   "metadata": {
    "execution": {
     "iopub.execute_input": "2022-07-01T14:25:14.374876Z",
     "iopub.status.busy": "2022-07-01T14:25:14.374448Z",
     "iopub.status.idle": "2022-07-01T14:25:14.382691Z",
     "shell.execute_reply": "2022-07-01T14:25:14.381633Z"
    },
    "papermill": {
     "duration": 0.040412,
     "end_time": "2022-07-01T14:25:14.384816",
     "exception": false,
     "start_time": "2022-07-01T14:25:14.344404",
     "status": "completed"
    },
    "tags": []
   },
   "outputs": [
    {
     "name": "stdout",
     "output_type": "stream",
     "text": [
      "Covariance between Speed and Attack :  359.59539737171457\n"
     ]
    }
   ],
   "source": [
    "np.cov(data.Speed,data.Attack)\n",
    "\n",
    "print(\"Covariance between Speed and Attack : \",data.Speed.cov(data.Attack))"
   ]
  },
  {
   "attachments": {
    "a3722337-dcbd-487b-8a79-0be66842365a.png": {
     "image/png": "[encoded data removed]"
    }
   },
   "cell_type": "markdown",
   "id": "4e36150b",
   "metadata": {
    "papermill": {
     "duration": 0.028005,
     "end_time": "2022-07-01T14:25:14.440891",
     "exception": false,
     "start_time": "2022-07-01T14:25:14.412886",
     "status": "completed"
    },
    "tags": []
   },
   "source": [
    "<a id=\"18\"></a>\n",
    "\n",
    "\n",
    "# PEARSON'S CORRELATION\n",
    "* It is the ratio between the covariance of two variables and the product of their standard deviations.\n",
    "* It is a measure of **linear correlation** between two sets of data.\n",
    "\n",
    "![p.png](attachment:a3722337-dcbd-487b-8a79-0be66842365a.png)"
   ]
  },
  {
   "cell_type": "code",
   "execution_count": 25,
   "id": "211019cc",
   "metadata": {
    "execution": {
     "iopub.execute_input": "2022-07-01T14:25:14.500367Z",
     "iopub.status.busy": "2022-07-01T14:25:14.499338Z",
     "iopub.status.idle": "2022-07-01T14:25:14.512400Z",
     "shell.execute_reply": "2022-07-01T14:25:14.510687Z"
    },
    "papermill": {
     "duration": 0.045909,
     "end_time": "2022-07-01T14:25:14.514917",
     "exception": false,
     "start_time": "2022-07-01T14:25:14.469008",
     "status": "completed"
    },
    "tags": []
   },
   "outputs": [
    {
     "name": "stdout",
     "output_type": "stream",
     "text": [
      "Pearson correlation: \n",
      "          Speed   Attack\n",
      "Speed   1.00000  0.38124\n",
      "Attack  0.38124  1.00000\n",
      "Pearson correlation:  0.38123973924108967\n"
     ]
    }
   ],
   "source": [
    "p1=data.loc[:,[\"Speed\",\"Attack\"]].corr(method=\"pearson\")\n",
    "p2=data.Attack.cov(data.Speed)/(data.Attack.std()*data.Speed.std())\n",
    "print('Pearson correlation: ')\n",
    "print(p1)\n",
    "print('Pearson correlation: ',p2)"
   ]
  },
  {
   "cell_type": "markdown",
   "id": "fd5cc28c",
   "metadata": {
    "papermill": {
     "duration": 0.02807,
     "end_time": "2022-07-01T14:25:14.571000",
     "exception": false,
     "start_time": "2022-07-01T14:25:14.542930",
     "status": "completed"
    },
    "tags": []
   },
   "source": [
    "* If Pearson’s correlation is near **0**, it is tempting to conclude that there is **no relationship** between the variables.\n",
    "* That conclusion is not valid. Pearson’s correlation only measures linear relationships."
   ]
  },
  {
   "cell_type": "markdown",
   "id": "d4416d69",
   "metadata": {
    "papermill": {
     "duration": 0.031086,
     "end_time": "2022-07-01T14:25:14.630423",
     "exception": false,
     "start_time": "2022-07-01T14:25:14.599337",
     "status": "completed"
    },
    "tags": []
   },
   "source": [
    "<a id=\"19\"></a>\n",
    "\n",
    "\n",
    "# SPEARSMAN'S RANK CORRELATION\n",
    "\n",
    "* Pearson’s correlation works well if the relationship between variables is linear and if the variables are roughly normal. But it is not robust in the presence of outliers.\n",
    "\n",
    "* Spearman’s rank correlation is an alternative that mitigates the effect of outliers and skewed distributions.\n",
    "\n",
    "* To compute Spearman’s correlation, we have to compute the **rank** of each value."
   ]
  },
  {
   "cell_type": "code",
   "execution_count": 26,
   "id": "03d8ddee",
   "metadata": {
    "execution": {
     "iopub.execute_input": "2022-07-01T14:25:14.688955Z",
     "iopub.status.busy": "2022-07-01T14:25:14.688535Z",
     "iopub.status.idle": "2022-07-01T14:25:14.714389Z",
     "shell.execute_reply": "2022-07-01T14:25:14.713055Z"
    },
    "papermill": {
     "duration": 0.058425,
     "end_time": "2022-07-01T14:25:14.716910",
     "exception": false,
     "start_time": "2022-07-01T14:25:14.658485",
     "status": "completed"
    },
    "tags": []
   },
   "outputs": [
    {
     "name": "stdout",
     "output_type": "stream",
     "text": [
      "Spearman's correlation: \n",
      "           Speed    Attack\n",
      "Speed   1.000000  0.373443\n",
      "Attack  0.373443  1.000000\n"
     ]
    }
   ],
   "source": [
    "data_rank=data.rank()\n",
    "spearman_corelation=data_rank.loc[:,[\"Speed\",\"Attack\"]].corr(method=\"pearson\")\n",
    "print(\"Spearman's correlation: \")\n",
    "print(spearman_corelation)"
   ]
  },
  {
   "cell_type": "markdown",
   "id": "f79b8dbf",
   "metadata": {
    "papermill": {
     "duration": 0.027522,
     "end_time": "2022-07-01T14:25:14.772505",
     "exception": false,
     "start_time": "2022-07-01T14:25:14.744983",
     "status": "completed"
    },
    "tags": []
   },
   "source": [
    "* If the relationship is nonlinear, Pearson’s correlation tends to underestimate the strength of the relationship, and \n",
    "* Pearson’s correlation can be affected (in either direction) if one of the distributions is skewed or contains outliers. Spearman’s rank correlation is more robust."
   ]
  },
  {
   "cell_type": "markdown",
   "id": "7f6bce71",
   "metadata": {
    "papermill": {
     "duration": 0.028396,
     "end_time": "2022-07-01T14:25:14.830369",
     "exception": false,
     "start_time": "2022-07-01T14:25:14.801973",
     "status": "completed"
    },
    "tags": []
   },
   "source": [
    "<a id=\"20\"></a>\n",
    "\n",
    "\n",
    "# PROBABILITY"
   ]
  },
  {
   "cell_type": "markdown",
   "id": "84751b3f",
   "metadata": {
    "papermill": {
     "duration": 0.027965,
     "end_time": "2022-07-01T14:25:14.886616",
     "exception": false,
     "start_time": "2022-07-01T14:25:14.858651",
     "status": "completed"
    },
    "tags": []
   },
   "source": [
    "<a id=\"21\"></a>\n",
    "\n",
    "\n",
    "## CUMULATIVE DISTRIBUTION FUNCTION (CDF)\n",
    "* A CDF maps from values to cumulative probabilities.\n",
    "* CDF gives the probability that a random variable is less than or equal to a certain value."
   ]
  },
  {
   "cell_type": "code",
   "execution_count": 27,
   "id": "931b05cb",
   "metadata": {
    "execution": {
     "iopub.execute_input": "2022-07-01T14:25:14.944836Z",
     "iopub.status.busy": "2022-07-01T14:25:14.944429Z",
     "iopub.status.idle": "2022-07-01T14:25:14.952047Z",
     "shell.execute_reply": "2022-07-01T14:25:14.950990Z"
    },
    "papermill": {
     "duration": 0.03915,
     "end_time": "2022-07-01T14:25:14.954155",
     "exception": false,
     "start_time": "2022-07-01T14:25:14.915005",
     "status": "completed"
    },
    "tags": []
   },
   "outputs": [
    {
     "data": {
      "text/plain": [
       "0.862496179326002"
      ]
     },
     "execution_count": 27,
     "metadata": {},
     "output_type": "execute_result"
    }
   ],
   "source": [
    "from scipy.stats import norm\n",
    "norm.cdf(100,68.2775,29.060473717161464) #(value?,mean,standard deviation)\n",
    "# norm.cdf(100,data.Speed.mean(),data.Speed.std())"
   ]
  },
  {
   "cell_type": "code",
   "execution_count": 28,
   "id": "fb4d7fb2",
   "metadata": {
    "execution": {
     "iopub.execute_input": "2022-07-01T14:25:15.012360Z",
     "iopub.status.busy": "2022-07-01T14:25:15.011884Z",
     "iopub.status.idle": "2022-07-01T14:25:15.287754Z",
     "shell.execute_reply": "2022-07-01T14:25:15.286705Z"
    },
    "papermill": {
     "duration": 0.30831,
     "end_time": "2022-07-01T14:25:15.290432",
     "exception": false,
     "start_time": "2022-07-01T14:25:14.982122",
     "status": "completed"
    },
    "tags": []
   },
   "outputs": [
    {
     "data": {
      "image/png": "[encoded data removed]",
      "text/plain": [
       "<Figure size 432x288 with 1 Axes>"
      ]
     },
     "metadata": {
      "needs_background": "light"
     },
     "output_type": "display_data"
    }
   ],
   "source": [
    "plt.hist(data.Speed,bins=50,label='Speed',color=\"khaki\",cumulative = True,density=True, stacked=True)\n",
    "sorted_data = np.sort(data.Speed)\n",
    "y = np.arange(len(sorted_data))/float(len(sorted_data)-1)\n",
    "plt.plot(sorted_data,y,color='orange')\n",
    "plt.title('CDF of Speed')\n",
    "plt.show()"
   ]
  },
  {
   "cell_type": "markdown",
   "id": "1b0693c7",
   "metadata": {
    "papermill": {
     "duration": 0.028535,
     "end_time": "2022-07-01T14:25:15.347499",
     "exception": false,
     "start_time": "2022-07-01T14:25:15.318964",
     "status": "completed"
    },
    "tags": []
   },
   "source": [
    "* According to the graph : P(100<X) ?\n",
    "* Answer is : 0.9\n",
    "* This means the probability that the variable takes a values less than or equal to 100 (Speed) is 0.9."
   ]
  },
  {
   "cell_type": "markdown",
   "id": "8e9afa30",
   "metadata": {
    "papermill": {
     "duration": 0.027947,
     "end_time": "2022-07-01T14:25:15.403866",
     "exception": false,
     "start_time": "2022-07-01T14:25:15.375919",
     "status": "completed"
    },
    "tags": []
   },
   "source": [
    "<a id=\"22\"></a>\n",
    "\n",
    "\n",
    "# STATISTICAL HYPOTHESIS TESTING"
   ]
  },
  {
   "attachments": {
    "b2944b92-9d75-4cae-80ff-c22cc4e4ba4a.png": {
     "image/png": "[encoded data removed]"
    }
   },
   "cell_type": "markdown",
   "id": "e6ec3647",
   "metadata": {
    "papermill": {
     "duration": 0.028244,
     "end_time": "2022-07-01T14:25:15.460899",
     "exception": false,
     "start_time": "2022-07-01T14:25:15.432655",
     "status": "completed"
    },
    "tags": []
   },
   "source": [
    "* The goal of classical hypothesis testing is to answer the question, **“Given a sample and an apparent effect, what is the probability of seeing such an effect by chance?”**\n",
    "\n",
    "1. The first step is to quantify the size of the apparent effect by choosing a **test statistic**.\n",
    "\n",
    "1. The second step is to define a **null hypothesis**, which is a model of the system based on the assumption that the apparent effect is not real. H0\n",
    "\n",
    "1. The third step is to compute a **p-value**, which is the probability of seeing the apparent effect if the null hypothesis is true.\n",
    "\n",
    "1. The last step is to interpret the result. If the p-value is low, the effect is said to be **statistically significant**, which means that it is unlikely to have occurred by chance.\n",
    "\n",
    "![image.png](attachment:b2944b92-9d75-4cae-80ff-c22cc4e4ba4a.png)"
   ]
  },
  {
   "cell_type": "markdown",
   "id": "2f84327e",
   "metadata": {
    "papermill": {
     "duration": 0.028116,
     "end_time": "2022-07-01T14:25:15.517566",
     "exception": false,
     "start_time": "2022-07-01T14:25:15.489450",
     "status": "completed"
    },
    "tags": []
   },
   "source": [
    "## P - VALUE\n",
    "\n",
    "* A statistical measurement used to validate a hypothesis against observed data.\n",
    "\n",
    "* Reject H0:\n",
    "    * If p value > 0.10 → “Not Significant”\n",
    "    * If p value ≤ 0.10 → “Marginally Significant”\n",
    "    * If p value ≤ 0.05 → “Significant”\n",
    "    * If p value ≤ 0.01 → “Highly Significant.”"
   ]
  },
  {
   "cell_type": "code",
   "execution_count": 29,
   "id": "05836673",
   "metadata": {
    "execution": {
     "iopub.execute_input": "2022-07-01T14:25:15.576882Z",
     "iopub.status.busy": "2022-07-01T14:25:15.576060Z",
     "iopub.status.idle": "2022-07-01T14:25:15.580431Z",
     "shell.execute_reply": "2022-07-01T14:25:15.579513Z"
    },
    "papermill": {
     "duration": 0.037053,
     "end_time": "2022-07-01T14:25:15.582960",
     "exception": false,
     "start_time": "2022-07-01T14:25:15.545907",
     "status": "completed"
    },
    "tags": []
   },
   "outputs": [],
   "source": [
    "from scipy.stats import ttest_rel"
   ]
  },
  {
   "cell_type": "code",
   "execution_count": 30,
   "id": "e50132ac",
   "metadata": {
    "execution": {
     "iopub.execute_input": "2022-07-01T14:25:15.650626Z",
     "iopub.status.busy": "2022-07-01T14:25:15.650183Z",
     "iopub.status.idle": "2022-07-01T14:25:15.661225Z",
     "shell.execute_reply": "2022-07-01T14:25:15.659393Z"
    },
    "papermill": {
     "duration": 0.051982,
     "end_time": "2022-07-01T14:25:15.663963",
     "exception": false,
     "start_time": "2022-07-01T14:25:15.611981",
     "status": "completed"
    },
    "tags": []
   },
   "outputs": [
    {
     "name": "stdout",
     "output_type": "stream",
     "text": [
      "p-value:  0.0002512305750711713\n"
     ]
    }
   ],
   "source": [
    "statistic, p_value = ttest_rel(data.HP,data.Defense)\n",
    "print('p-value: ',p_value)"
   ]
  },
  {
   "cell_type": "code",
   "execution_count": 31,
   "id": "4949941a",
   "metadata": {
    "execution": {
     "iopub.execute_input": "2022-07-01T14:25:15.738627Z",
     "iopub.status.busy": "2022-07-01T14:25:15.737542Z",
     "iopub.status.idle": "2022-07-01T14:25:15.744913Z",
     "shell.execute_reply": "2022-07-01T14:25:15.743961Z"
    },
    "papermill": {
     "duration": 0.046837,
     "end_time": "2022-07-01T14:25:15.747263",
     "exception": false,
     "start_time": "2022-07-01T14:25:15.700426",
     "status": "completed"
    },
    "tags": []
   },
   "outputs": [
    {
     "data": {
      "text/plain": [
       "True"
      ]
     },
     "execution_count": 31,
     "metadata": {},
     "output_type": "execute_result"
    }
   ],
   "source": [
    "p_value<0.05"
   ]
  },
  {
   "cell_type": "markdown",
   "id": "632820a9",
   "metadata": {
    "papermill": {
     "duration": 0.028074,
     "end_time": "2022-07-01T14:25:15.803744",
     "exception": false,
     "start_time": "2022-07-01T14:25:15.775670",
     "status": "completed"
    },
    "tags": []
   },
   "source": [
    "##### P-Value is smaller than 0.05. So H0 is rejected."
   ]
  },
  {
   "cell_type": "markdown",
   "id": "ca4ca132",
   "metadata": {
    "papermill": {
     "duration": 0.028154,
     "end_time": "2022-07-01T14:25:15.860269",
     "exception": false,
     "start_time": "2022-07-01T14:25:15.832115",
     "status": "completed"
    },
    "tags": []
   },
   "source": [
    "<a id=\"23\"></a>\n",
    "\n",
    "\n",
    "# ONE SAMPLE T TEST\n",
    "\n",
    "* The One Sample t Test examines whether the mean of a population is statistically different from a known or hypothesized value."
   ]
  },
  {
   "cell_type": "code",
   "execution_count": 32,
   "id": "b7ebb647",
   "metadata": {
    "execution": {
     "iopub.execute_input": "2022-07-01T14:25:15.919100Z",
     "iopub.status.busy": "2022-07-01T14:25:15.918702Z",
     "iopub.status.idle": "2022-07-01T14:25:15.923482Z",
     "shell.execute_reply": "2022-07-01T14:25:15.922343Z"
    },
    "papermill": {
     "duration": 0.036873,
     "end_time": "2022-07-01T14:25:15.925702",
     "exception": false,
     "start_time": "2022-07-01T14:25:15.888829",
     "status": "completed"
    },
    "tags": []
   },
   "outputs": [],
   "source": [
    "import scipy.stats as stats"
   ]
  },
  {
   "cell_type": "code",
   "execution_count": 33,
   "id": "a0a9cc75",
   "metadata": {
    "execution": {
     "iopub.execute_input": "2022-07-01T14:25:15.984569Z",
     "iopub.status.busy": "2022-07-01T14:25:15.983742Z",
     "iopub.status.idle": "2022-07-01T14:25:15.991929Z",
     "shell.execute_reply": "2022-07-01T14:25:15.991141Z"
    },
    "papermill": {
     "duration": 0.039698,
     "end_time": "2022-07-01T14:25:15.993942",
     "exception": false,
     "start_time": "2022-07-01T14:25:15.954244",
     "status": "completed"
    },
    "tags": []
   },
   "outputs": [
    {
     "data": {
      "text/plain": [
       "DescribeResult(nobs=800, minmax=(1, 255), mean=69.25875, variance=652.0193225907384, skewness=1.5652824223266586, kurtosis=7.179466278186133)"
      ]
     },
     "execution_count": 33,
     "metadata": {},
     "output_type": "execute_result"
    }
   ],
   "source": [
    "stats.describe(data.HP)"
   ]
  },
  {
   "cell_type": "code",
   "execution_count": 34,
   "id": "16f16e84",
   "metadata": {
    "execution": {
     "iopub.execute_input": "2022-07-01T14:25:16.054928Z",
     "iopub.status.busy": "2022-07-01T14:25:16.054225Z",
     "iopub.status.idle": "2022-07-01T14:25:16.247051Z",
     "shell.execute_reply": "2022-07-01T14:25:16.245952Z"
    },
    "papermill": {
     "duration": 0.2268,
     "end_time": "2022-07-01T14:25:16.249731",
     "exception": false,
     "start_time": "2022-07-01T14:25:16.022931",
     "status": "completed"
    },
    "tags": []
   },
   "outputs": [
    {
     "data": {
      "image/png": "[encoded data removed]",
      "text/plain": [
       "<Figure size 432x288 with 1 Axes>"
      ]
     },
     "metadata": {
      "needs_background": "light"
     },
     "output_type": "display_data"
    }
   ],
   "source": [
    "import pylab\n",
    "stats.probplot(data.HP,dist=\"norm\",plot=pylab)\n",
    "pylab.show()"
   ]
  },
  {
   "cell_type": "markdown",
   "id": "cc07300a",
   "metadata": {
    "papermill": {
     "duration": 0.06826,
     "end_time": "2022-07-01T14:25:16.347167",
     "exception": false,
     "start_time": "2022-07-01T14:25:16.278907",
     "status": "completed"
    },
    "tags": []
   },
   "source": [
    "<a id=\"24\"></a>\n",
    "\n",
    "# SHAPIRO - WILK TEST\n",
    "\n",
    "* H0: Population is normally distributed.\n",
    "* H1: Population is not normally distributed."
   ]
  },
  {
   "cell_type": "code",
   "execution_count": 35,
   "id": "d49e6472",
   "metadata": {
    "execution": {
     "iopub.execute_input": "2022-07-01T14:25:16.409311Z",
     "iopub.status.busy": "2022-07-01T14:25:16.408870Z",
     "iopub.status.idle": "2022-07-01T14:25:16.415507Z",
     "shell.execute_reply": "2022-07-01T14:25:16.414296Z"
    },
    "papermill": {
     "duration": 0.03974,
     "end_time": "2022-07-01T14:25:16.417972",
     "exception": false,
     "start_time": "2022-07-01T14:25:16.378232",
     "status": "completed"
    },
    "tags": []
   },
   "outputs": [
    {
     "name": "stdout",
     "output_type": "stream",
     "text": [
      "T Test Statistics:  0.9158304333686829\n",
      "P Value :  1.1518300198312678e-20\n"
     ]
    }
   ],
   "source": [
    "from scipy.stats import shapiro\n",
    "shapiro(data.HP)\n",
    "\n",
    "print(\"T Test Statistics: \",shapiro(data.HP)[0])\n",
    "print(\"P Value : \",shapiro(data.HP)[1])"
   ]
  },
  {
   "cell_type": "code",
   "execution_count": 36,
   "id": "99a4f511",
   "metadata": {
    "execution": {
     "iopub.execute_input": "2022-07-01T14:25:16.479426Z",
     "iopub.status.busy": "2022-07-01T14:25:16.478302Z",
     "iopub.status.idle": "2022-07-01T14:25:16.484600Z",
     "shell.execute_reply": "2022-07-01T14:25:16.483606Z"
    },
    "papermill": {
     "duration": 0.039031,
     "end_time": "2022-07-01T14:25:16.486757",
     "exception": false,
     "start_time": "2022-07-01T14:25:16.447726",
     "status": "completed"
    },
    "tags": []
   },
   "outputs": [
    {
     "data": {
      "text/plain": [
       "True"
      ]
     },
     "execution_count": 36,
     "metadata": {},
     "output_type": "execute_result"
    }
   ],
   "source": [
    "1.1518300198312678e-20<0.05"
   ]
  },
  {
   "cell_type": "markdown",
   "id": "20807106",
   "metadata": {
    "papermill": {
     "duration": 0.029354,
     "end_time": "2022-07-01T14:25:16.545606",
     "exception": false,
     "start_time": "2022-07-01T14:25:16.516252",
     "status": "completed"
    },
    "tags": []
   },
   "source": [
    "##### P-Value is smaller than 0.05. H0 is rejected."
   ]
  },
  {
   "cell_type": "markdown",
   "id": "6a82e6ba",
   "metadata": {
    "papermill": {
     "duration": 0.029439,
     "end_time": "2022-07-01T14:25:16.604467",
     "exception": false,
     "start_time": "2022-07-01T14:25:16.575028",
     "status": "completed"
    },
    "tags": []
   },
   "source": [
    "<a id=\"25\"></a>\n",
    "\n",
    "\n",
    "# HOMOGENEITY OF VARIANCE\n",
    "\n",
    "* The assumption of homogeneity of variance is an assumption of the independent samples t-test stating that all comparison groups have the same variance.\n",
    "\n",
    "* H0: Variances are homogeneous\n",
    "* H1: Variances are not homogeneous"
   ]
  },
  {
   "cell_type": "code",
   "execution_count": 37,
   "id": "557c47f7",
   "metadata": {
    "execution": {
     "iopub.execute_input": "2022-07-01T14:25:16.665799Z",
     "iopub.status.busy": "2022-07-01T14:25:16.665375Z",
     "iopub.status.idle": "2022-07-01T14:25:16.674134Z",
     "shell.execute_reply": "2022-07-01T14:25:16.673255Z"
    },
    "papermill": {
     "duration": 0.042027,
     "end_time": "2022-07-01T14:25:16.676393",
     "exception": false,
     "start_time": "2022-07-01T14:25:16.634366",
     "status": "completed"
    },
    "tags": []
   },
   "outputs": [
    {
     "data": {
      "text/plain": [
       "LeveneResult(statistic=4.099512378524714, pvalue=0.04306159762659687)"
      ]
     },
     "execution_count": 37,
     "metadata": {},
     "output_type": "execute_result"
    }
   ],
   "source": [
    "stats.levene(data[\"Speed\"],data[\"Attack\"])"
   ]
  },
  {
   "cell_type": "code",
   "execution_count": 38,
   "id": "cda5c08c",
   "metadata": {
    "execution": {
     "iopub.execute_input": "2022-07-01T14:25:16.739941Z",
     "iopub.status.busy": "2022-07-01T14:25:16.739142Z",
     "iopub.status.idle": "2022-07-01T14:25:16.746649Z",
     "shell.execute_reply": "2022-07-01T14:25:16.745488Z"
    },
    "papermill": {
     "duration": 0.042015,
     "end_time": "2022-07-01T14:25:16.748981",
     "exception": false,
     "start_time": "2022-07-01T14:25:16.706966",
     "status": "completed"
    },
    "tags": []
   },
   "outputs": [
    {
     "data": {
      "text/plain": [
       "True"
      ]
     },
     "execution_count": 38,
     "metadata": {},
     "output_type": "execute_result"
    }
   ],
   "source": [
    "0.04306159762659687<0.05"
   ]
  },
  {
   "cell_type": "markdown",
   "id": "98ab14b3",
   "metadata": {
    "papermill": {
     "duration": 0.029512,
     "end_time": "2022-07-01T14:25:16.807941",
     "exception": false,
     "start_time": "2022-07-01T14:25:16.778429",
     "status": "completed"
    },
    "tags": []
   },
   "source": [
    "##### p- value < 0.05 So H0 is rejected. They are not homogeneous."
   ]
  },
  {
   "cell_type": "markdown",
   "id": "ee627aed",
   "metadata": {
    "papermill": {
     "duration": 0.030291,
     "end_time": "2022-07-01T14:25:16.867837",
     "exception": false,
     "start_time": "2022-07-01T14:25:16.837546",
     "status": "completed"
    },
    "tags": []
   },
   "source": [
    "<a id=\"26\"></a>\n",
    "\n",
    "\n",
    "# TWO-SAMPLE T-TEST / INDEPENDENT SAMPLES T-TEST\n",
    "\n",
    "\n",
    "* Two-sample t-test is used to test whether the unknown population means of two groups are equal or not.\n",
    "\n",
    "\n",
    "* H0: Means are equal\n",
    "* H1: Means are not equal"
   ]
  },
  {
   "cell_type": "code",
   "execution_count": 39,
   "id": "147ba573",
   "metadata": {
    "execution": {
     "iopub.execute_input": "2022-07-01T14:25:16.929805Z",
     "iopub.status.busy": "2022-07-01T14:25:16.929146Z",
     "iopub.status.idle": "2022-07-01T14:25:16.936917Z",
     "shell.execute_reply": "2022-07-01T14:25:16.936095Z"
    },
    "papermill": {
     "duration": 0.04146,
     "end_time": "2022-07-01T14:25:16.938989",
     "exception": false,
     "start_time": "2022-07-01T14:25:16.897529",
     "status": "completed"
    },
    "tags": []
   },
   "outputs": [
    {
     "data": {
      "text/plain": [
       "Ttest_indResult(statistic=-6.9621682797744935, pvalue=4.897628155049799e-12)"
      ]
     },
     "execution_count": 39,
     "metadata": {},
     "output_type": "execute_result"
    }
   ],
   "source": [
    "stats.ttest_ind(data[\"Speed\"],data[\"Attack\"],equal_var=False)\n",
    "# equal_var=False Because homogeneity of variance is not provided"
   ]
  },
  {
   "cell_type": "code",
   "execution_count": 40,
   "id": "5953ebd8",
   "metadata": {
    "execution": {
     "iopub.execute_input": "2022-07-01T14:25:17.000124Z",
     "iopub.status.busy": "2022-07-01T14:25:16.999720Z",
     "iopub.status.idle": "2022-07-01T14:25:17.005485Z",
     "shell.execute_reply": "2022-07-01T14:25:17.004592Z"
    },
    "papermill": {
     "duration": 0.039098,
     "end_time": "2022-07-01T14:25:17.007740",
     "exception": false,
     "start_time": "2022-07-01T14:25:16.968642",
     "status": "completed"
    },
    "tags": []
   },
   "outputs": [
    {
     "data": {
      "text/plain": [
       "True"
      ]
     },
     "execution_count": 40,
     "metadata": {},
     "output_type": "execute_result"
    }
   ],
   "source": [
    "4.897628155049799e-12<0.05"
   ]
  },
  {
   "cell_type": "markdown",
   "id": "77f2bb8a",
   "metadata": {
    "papermill": {
     "duration": 0.031785,
     "end_time": "2022-07-01T14:25:17.070401",
     "exception": false,
     "start_time": "2022-07-01T14:25:17.038616",
     "status": "completed"
    },
    "tags": []
   },
   "source": [
    "##### p-value < 0.05 So H0 is rejected."
   ]
  }
 ],
 "metadata": {
  "kernelspec": {
   "display_name": "Python 3",
   "language": "python",
   "name": "python3"
  },
  "language_info": {
   "codemirror_mode": {
    "name": "ipython",
    "version": 3
   },
   "file_extension": ".py",
   "mimetype": "text/x-python",
   "name": "python",
   "nbconvert_exporter": "python",
   "pygments_lexer": "ipython3",
   "version": "3.7.12"
  },
  "papermill": {
   "default_parameters": {},
   "duration": 22.675608,
   "end_time": "2022-07-01T14:25:17.923142",
   "environment_variables": {},
   "exception": null,
   "input_path": "__notebook__.ipynb",
   "output_path": "__notebook__.ipynb",
   "parameters": {},
   "start_time": "2022-07-01T14:24:55.247534",
   "version": "2.3.4"
  }
 },
 "nbformat": 4,
 "nbformat_minor": 5
}
